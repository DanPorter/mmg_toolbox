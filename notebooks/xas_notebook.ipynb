{
 "cells": [
  {
   "cell_type": "code",
   "execution_count": 1,
   "id": "6cf53e16-241a-41f3-8aeb-df6f296ffd0a",
   "metadata": {},
   "outputs": [],
   "source": [
    "inpath = '/dls/science/groups/das/ExampleData/hdfmap_tests/i06/i06-1-353226.nxs'"
   ]
  },
  {
   "cell_type": "markdown",
   "id": "ea95a75c-ab66-4cd5-bcc3-2daa8f7bc358",
   "metadata": {},
   "source": [
    "# XAS Notebook"
   ]
  },
  {
   "cell_type": "code",
   "execution_count": 2,
   "id": "ef4acc26-df0a-43d2-9c90-3dd908def7a0",
   "metadata": {},
   "outputs": [
    {
     "name": "stderr",
     "output_type": "stream",
     "text": [
      "WARNING:hdfmap.eval_functions:Nexus timestamps are not convertable by datetime.fromisoformat in python version <3.11\n"
     ]
    },
    {
     "name": "stdout",
     "output_type": "stream",
     "text": [
      "Python version 3.10.15 | packaged by conda-forge | (main, Oct 16 2024, 01:24:24) [GCC 13.3.0]\n",
      " at: /scratch/grp66007/software/miniforge/envs/mmg_data_analysis/bin/python\n",
      " hdfmap version 0.9.0 (2025/03/31): /scratch/grp66007/software/miniforge/envs/mmg_data_analysis/lib/python3.10/site-packages/hdfmap/__init__.py\n",
      "     numpy version: 2.1.2\n",
      "      h5py version: 3.12.1\n",
      "    hdf5plugin: 5.0.0\n",
      "Running in directory: /scratch/grp66007/python/mmg_toolbox/notebooks\n",
      "\n"
     ]
    }
   ],
   "source": [
    "import sys, os\n",
    "import numpy as np\n",
    "import matplotlib.pyplot as plt\n",
    "\n",
    "import hdfmap\n",
    "print(hdfmap.module_info())\n"
   ]
  },
  {
   "cell_type": "code",
   "execution_count": 3,
   "id": "591f3860-45f7-4545-9a8c-d58e27d9782e",
   "metadata": {},
   "outputs": [
    {
     "name": "stdout",
     "output_type": "stream",
     "text": [
      "/entry/instrument/fastEnergy/value\n",
      "/entry/xas_entry/monitor/data\n",
      "/entry/xas_entry/tey/absorbed_beam\n",
      "/entry/xas_entry/tfy_ft/absorbed_beam\n",
      "scan        : i06-1-353226.nxs\n",
      "cmd         : scan fastEnergy 0.0 249.0 1.0 fesData 0.0 1.0\n",
      "title       : i06-1-353226.nxs\n",
      "endstation  : magnet\n",
      "sample      : name not given\n",
      "energy      : 768.66 eV\n",
      "pol         : pc\n",
      "height      : 0.00\n",
      "pitch       : 0.00\n",
      "temperature : 297.14 K\n",
      "field       : 0.00 T\n"
     ]
    },
    {
     "name": "stderr",
     "output_type": "stream",
     "text": [
      "/tmp/ipykernel_3115974/294268461.py:31: RuntimeWarning: invalid value encountered in divide\n",
      "  tey = nxs_map.eval(nxs, '(C1|ca61sr|mcs17_data|mcse17_data|mcsh17_data)', default=np.ones(nxs_map.scannables_shape())) / monitor\n",
      "/tmp/ipykernel_3115974/294268461.py:32: RuntimeWarning: divide by zero encountered in divide\n",
      "  tfy = nxs_map.eval(nxs, '(C3|ca63sr|mcs18_data|mcse18_data|mcsh18_data|mcsd18_data)', default=np.ones(nxs_map.scannables_shape())) / monitor\n"
     ]
    }
   ],
   "source": [
    "# Load data from NeXus file using HdfMap\n",
    "\n",
    "nxs_map = hdfmap.create_nexus_map(inpath)\n",
    "\n",
    "with nxs_map.load_hdf() as nxs:\n",
    "    def rd(expr, default=''):\n",
    "        return nxs_map.format_hdf(nxs, expr, default=default)\n",
    "\n",
    "    # currently accounts for i06-1 and i10-1 metadata\n",
    "    metadata = {\n",
    "        \"scan\": rd('{filename}'),\n",
    "        \"cmd\": rd('{(cmd|user_command|scan_command)}'),\n",
    "        \"title\": rd('{title}', os.path.basename(inpath)),\n",
    "        \"endstation\": rd('{end_station}', 'unknown'),\n",
    "        \"sample\": rd('{sample_name}', ''),\n",
    "        \"energy\": rd('{np.mean((fastEnergy|pgm_energy|energye|energyh)):.2f} eV'),\n",
    "        \"pol\": rd('{polarisation?(\"lh\")}'),\n",
    "        \"height\": rd('{(em_y|hfm_y):.2f}', 0),\n",
    "        \"pitch\": rd('{(em_pitch|hfm_pitch):.2f}', 0),\n",
    "        \"temperature\": rd('{(T_sample|sample_temperature|lakeshore336_cryostat|lakeshore336_sample|itc3_device_sensor_temp?(300)):.2f} K'),\n",
    "        \"field\": rd('{(field_z|sample_field|magnet_field|ips_demand_field?(0)):.2f} T'),\n",
    "    }\n",
    "\n",
    "    print(nxs_map.eval(nxs, '_(fastEnergy|pgm_energy|energye|energyh)'))\n",
    "    print(nxs_map.eval(nxs, '_(C2|ca62sr|mcs16_data|mcse16_data|mcsh16_data)'))\n",
    "    print(nxs_map.eval(nxs, '_(C1|ca61sr|mcs17_data|mcse17_data|mcsh17_data)'))\n",
    "    print(nxs_map.eval(nxs, '_(C3|ca63sr|mcs18_data|mcse18_data|mcsh18_data|mcsd18_data)'))\n",
    "\n",
    "    energy = nxs_map.eval(nxs, '(fastEnergy|pgm_energy|energye|energyh)')\n",
    "    monitor = nxs_map.eval(nxs, '(C2|ca62sr|mcs16_data|mcse16_data|mcsh16_data)', default=1.0)\n",
    "    tey = nxs_map.eval(nxs, '(C1|ca61sr|mcs17_data|mcse17_data|mcsh17_data)', default=np.ones(nxs_map.scannables_shape())) / monitor\n",
    "    tfy = nxs_map.eval(nxs, '(C3|ca63sr|mcs18_data|mcse18_data|mcsh18_data|mcsd18_data)', default=np.ones(nxs_map.scannables_shape())) / monitor\n",
    "\n",
    "print('\\n'.join(f\"{n:12}: {d}\" for n, d in metadata.items()))\n",
    "\n",
    "title = \"{endstation} {sample} {scan}\\nE = {energy}, pol = {pol}, T = {temperature}, B = {field}\".format(**metadata)"
   ]
  },
  {
   "cell_type": "code",
   "execution_count": null,
   "id": "d8849732",
   "metadata": {},
   "outputs": [],
   "source": [
    "# Load data from NeXus file from NXxas sub-entry\n",
    "\"\"\"\n",
    "import h5py \n",
    "with h5py.File(inpath, 'r') as nxs:\n",
    "    # first entry\n",
    "    entry = next(group for path, group in nxs.items() if group.attrs.get('NX_class', b'') == b'NXentry')\n",
    "    nxxas = next(group for path, group in entry.items() if group.attrs.get('NX_class', b'') == b'NXsubentry' and group.get('definition').asstr()[()] == 'NXxas')\n",
    "    print(f\"NXxas path: \\n{nxxas.name}\")\n",
    "    print(f\"  {'\\n  '.join(nxxas.keys())}\")\n",
    "\n",
    "    monitor = nxxas['monitor']['data'][()] if 'data' in nxxas['monitor'] else 1.0\n",
    "    data = nxxas['data']  # or 'tey', 'tfy_ft'\n",
    "    mode = data['mode'][()]\n",
    "    energy = data['energy'][()]\n",
    "    absorbed_beam = data['absorbed_beam'][()] / monitor\n",
    "    tey = nxxas['tey']['absorbed_beam'][()] / monitor\n",
    "    tfy = nxxas['tfy']['absorbed_beam'][()] / monitor\n",
    "\"\"\"\n"
   ]
  },
  {
   "cell_type": "code",
   "execution_count": 4,
   "id": "28b6a641-8f85-4c76-ae2a-ed2e6f588dce",
   "metadata": {},
   "outputs": [
    {
     "data": {
      "text/plain": [
       "<matplotlib.legend.Legend at 0x7f99605ea290>"
      ]
     },
     "execution_count": 4,
     "metadata": {},
     "output_type": "execute_result"
    },
    {
     "data": {
      "image/png": "[encoded data removed]",
      "text/plain": [
       "<Figure size 1200x400 with 2 Axes>"
      ]
     },
     "metadata": {},
     "output_type": "display_data"
    }
   ],
   "source": [
    "fig, ax = plt.subplots(1, 2, figsize=(12, 4))\n",
    "fig.suptitle(title)\n",
    "\n",
    "ax[0].plot(energy, tey, '-', label=f\"{metadata['pol']} TEY\")\n",
    "ax[1].plot(energy, tfy, '-', label=f\"{metadata['pol']} TFY\")\n",
    "\n",
    "ax[0].set_xlabel('Energy [eV]')\n",
    "ax[0].set_ylabel('signal / monitor')\n",
    "ax[0].legend()\n",
    "\n",
    "ax[1].set_xlabel('Energy [eV]')\n",
    "ax[1].set_ylabel('signal / monitor')\n",
    "ax[1].legend()"
   ]
  },
  {
   "cell_type": "code",
   "execution_count": null,
   "id": "4467864a-8efc-4661-83f5-af33dc3b4bf8",
   "metadata": {},
   "outputs": [],
   "source": []
  }
 ],
 "metadata": {
  "kernelspec": {
   "display_name": "Python 3 (ipykernel)",
   "language": "python",
   "name": "python3"
  },
  "language_info": {
   "codemirror_mode": {
    "name": "ipython",
    "version": 3
   },
   "file_extension": ".py",
   "mimetype": "text/x-python",
   "name": "python",
   "nbconvert_exporter": "python",
   "pygments_lexer": "ipython3",
   "version": "3.10.15"
  }
 },
 "nbformat": 4,
 "nbformat_minor": 5
}
